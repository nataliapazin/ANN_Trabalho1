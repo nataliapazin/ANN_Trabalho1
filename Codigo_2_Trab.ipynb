{
  "nbformat": 4,
  "nbformat_minor": 0,
  "metadata": {
    "colab": {
      "name": "Untitled21.ipynb",
      "provenance": [],
      "authorship_tag": "ABX9TyOOM25wxJ/eJbSEhPJwaLZG",
      "include_colab_link": true
    },
    "kernelspec": {
      "name": "python3",
      "display_name": "Python 3"
    },
    "language_info": {
      "name": "python"
    }
  },
  "cells": [
    {
      "cell_type": "markdown",
      "metadata": {
        "id": "view-in-github",
        "colab_type": "text"
      },
      "source": [
        "<a href=\"https://colab.research.google.com/github/nataliapazin/ANN_Trabalho1/blob/main/Codigo_2_Trab.ipynb\" target=\"_parent\"><img src=\"https://colab.research.google.com/assets/colab-badge.svg\" alt=\"Open In Colab\"/></a>"
      ]
    },
    {
      "cell_type": "code",
      "metadata": {
        "id": "RtD1uSlKvTl3"
      },
      "source": [
        "# bibliotecas usadas\n",
        "import numpy as np\n",
        "import pandas as pd\n",
        "import matplotlib.pyplot as plt\n",
        "from sklearn.neural_network import MLPRegressor\n",
        "from sklearn.model_selection import train_test_split\n",
        "from sklearn.metrics import mean_squared_error\n",
        "from sklearn.preprocessing import MinMaxScaler\n",
        "from sklearn import preprocessing\n",
        "from sklearn.metrics import r2_score "
      ],
      "execution_count": 1,
      "outputs": []
    },
    {
      "cell_type": "code",
      "metadata": {
        "id": "5X23PsPkvWCl"
      },
      "source": [
        "# para gerar o grafico no browser\n",
        "%matplotlib inline"
      ],
      "execution_count": 2,
      "outputs": []
    },
    {
      "cell_type": "code",
      "metadata": {
        "colab": {
          "base_uri": "https://localhost:8080/"
        },
        "id": "AQzSxDQuvYMl",
        "outputId": "a25b370a-0126-4422-c997-f0c77e4eaa3c"
      },
      "source": [
        "!git clone https://github.com/nataliapazin/ANN_Trabalho1\n",
        "%cd ANN_Trabalho1"
      ],
      "execution_count": 3,
      "outputs": [
        {
          "output_type": "stream",
          "text": [
            "Cloning into 'ANN_Trabalho1'...\n",
            "remote: Enumerating objects: 42, done.\u001b[K\n",
            "remote: Counting objects: 100% (42/42), done.\u001b[K\n",
            "remote: Compressing objects: 100% (40/40), done.\u001b[K\n",
            "remote: Total 42 (delta 15), reused 0 (delta 0), pack-reused 0\u001b[K\n",
            "Unpacking objects: 100% (42/42), done.\n",
            "/content/ANN_Trabalho1\n"
          ],
          "name": "stdout"
        }
      ]
    },
    {
      "cell_type": "code",
      "metadata": {
        "colab": {
          "base_uri": "https://localhost:8080/"
        },
        "id": "XJHs0sNVvcwN",
        "outputId": "eacfc258-6d2f-4156-f7f7-9305d9d1b488"
      },
      "source": [
        "# leitura dos dados\n",
        "df=pd.read_csv(\"Extraction_Data.csv\",delimiter=\";\")\n",
        "print(df)"
      ],
      "execution_count": 4,
      "outputs": [
        {
          "output_type": "stream",
          "text": [
            "    S.N  X1   X2   X3  X4  Dry Weight\n",
            "0     1  10  3.0  1.5  25     0.50560\n",
            "1     2  20  3.0  1.5  25     0.62205\n",
            "2     3  10  6.0  1.5  25     0.68300\n",
            "3     4  20  6.0  1.5  25     0.35209\n",
            "4     5  15  4.5  1.0  15     0.62450\n",
            "5     6  15  4.5  2.0  15     0.61000\n",
            "6     7  15  4.5  1.0  35     1.65230\n",
            "7     8  15  4.5  2.0  35     0.85650\n",
            "8     9  10  4.5  1.5  15     0.25890\n",
            "9    10  20  4.5  1.5  15     0.18430\n",
            "10   11  10  4.5  1.5  35     0.97200\n",
            "11   12  20  4.5  1.5  35     0.87600\n",
            "12   13  15  3.0  1.0  25     1.01980\n",
            "13   14  15  6.0  1.0  25     1.20910\n",
            "14   15  15  3.0  2.0  25     1.21900\n",
            "15   16  15  4.5  2.0  25     0.48630\n",
            "16   17  10  4.5  1.0  25     1.00700\n",
            "17   18  20  4.5  1.0  25     0.70100\n",
            "18   19  10  4.5  2.0  25     0.32600\n",
            "19   20  20  3.0  2.0  25     0.38870\n",
            "20   21  15  6.0  1.5  15     0.54700\n",
            "21   22  15  3.0  1.5  15     0.44200\n",
            "22   23  15  6.0  1.5  35     1.20430\n",
            "23   24  15  4.5  1.5  35     1.20534\n",
            "24   25  15  4.5  1.5  25     1.63150\n",
            "25   26  15  4.5  1.5  25     1.62190\n",
            "26   27  15  4.5  1.5  25     1.61910\n"
          ],
          "name": "stdout"
        }
      ]
    },
    {
      "cell_type": "code",
      "metadata": {
        "id": "HBdxiWTSvoPH"
      },
      "source": [
        "Dat_Select=df.iloc[:,2:]"
      ],
      "execution_count": 5,
      "outputs": []
    },
    {
      "cell_type": "code",
      "metadata": {
        "colab": {
          "base_uri": "https://localhost:8080/"
        },
        "id": "aDo92NkYvwOJ",
        "outputId": "5160f5e4-bab8-49b7-f64e-b80c85a05475"
      },
      "source": [
        "# separa as colunas de interesse\n",
        "Index=range(0)\n",
        "Index=[0,1,2,3,4,5]\n",
        "X=df.iloc[:,Index].copy()\n",
        "print(X)"
      ],
      "execution_count": 6,
      "outputs": [
        {
          "output_type": "stream",
          "text": [
            "    S.N  X1   X2   X3  X4  Dry Weight\n",
            "0     1  10  3.0  1.5  25     0.50560\n",
            "1     2  20  3.0  1.5  25     0.62205\n",
            "2     3  10  6.0  1.5  25     0.68300\n",
            "3     4  20  6.0  1.5  25     0.35209\n",
            "4     5  15  4.5  1.0  15     0.62450\n",
            "5     6  15  4.5  2.0  15     0.61000\n",
            "6     7  15  4.5  1.0  35     1.65230\n",
            "7     8  15  4.5  2.0  35     0.85650\n",
            "8     9  10  4.5  1.5  15     0.25890\n",
            "9    10  20  4.5  1.5  15     0.18430\n",
            "10   11  10  4.5  1.5  35     0.97200\n",
            "11   12  20  4.5  1.5  35     0.87600\n",
            "12   13  15  3.0  1.0  25     1.01980\n",
            "13   14  15  6.0  1.0  25     1.20910\n",
            "14   15  15  3.0  2.0  25     1.21900\n",
            "15   16  15  4.5  2.0  25     0.48630\n",
            "16   17  10  4.5  1.0  25     1.00700\n",
            "17   18  20  4.5  1.0  25     0.70100\n",
            "18   19  10  4.5  2.0  25     0.32600\n",
            "19   20  20  3.0  2.0  25     0.38870\n",
            "20   21  15  6.0  1.5  15     0.54700\n",
            "21   22  15  3.0  1.5  15     0.44200\n",
            "22   23  15  6.0  1.5  35     1.20430\n",
            "23   24  15  4.5  1.5  35     1.20534\n",
            "24   25  15  4.5  1.5  25     1.63150\n",
            "25   26  15  4.5  1.5  25     1.62190\n",
            "26   27  15  4.5  1.5  25     1.61910\n"
          ],
          "name": "stdout"
        }
      ]
    },
    {
      "cell_type": "code",
      "metadata": {
        "id": "EvVe_iygwY4h"
      },
      "source": [
        "Index=['Dry Weight']\n",
        "y=df[Index]"
      ],
      "execution_count": 7,
      "outputs": []
    },
    {
      "cell_type": "code",
      "metadata": {
        "id": "HlzjSXlDyEY4"
      },
      "source": [
        "X_train, X_test, y_train, y_test = train_test_split(X,y,test_size=0.15, shuffle=True, random_state=25)# 1"
      ],
      "execution_count": 8,
      "outputs": []
    },
    {
      "cell_type": "code",
      "metadata": {
        "id": "ObrRMT2DyHhx"
      },
      "source": [
        "scaler_X = preprocessing.MinMaxScaler((-1,1)).fit(X)\n",
        "scaler_Y = preprocessing.MinMaxScaler((-1,1)).fit(y)"
      ],
      "execution_count": 9,
      "outputs": []
    },
    {
      "cell_type": "code",
      "metadata": {
        "id": "vTT4CjpMyLx_"
      },
      "source": [
        "X_train = scaler_X.transform(X_train)\n",
        "X_test = scaler_X.transform(X_test)\n",
        "y_train = scaler_Y.transform(y_train)\n",
        "y_test = scaler_Y.transform(y_test)"
      ],
      "execution_count": 10,
      "outputs": []
    },
    {
      "cell_type": "code",
      "metadata": {
        "id": "773Br7WlyPhX"
      },
      "source": [
        "# define a rede neural \n",
        "model = MLPRegressor(solver='lbfgs',activation='tanh',alpha=1e-5,hidden_layer_sizes=(12,), random_state=10 )"
      ],
      "execution_count": 11,
      "outputs": []
    },
    {
      "cell_type": "code",
      "metadata": {
        "colab": {
          "base_uri": "https://localhost:8080/"
        },
        "id": "jXNyFJdhyTTf",
        "outputId": "68acfb06-d9ac-44e3-f05c-2d91369dfd6f"
      },
      "source": [
        "# treina a rede neural\n",
        "model.fit(X_train, y_train)"
      ],
      "execution_count": 12,
      "outputs": [
        {
          "output_type": "stream",
          "text": [
            "/usr/local/lib/python3.7/dist-packages/sklearn/neural_network/_multilayer_perceptron.py:1342: DataConversionWarning: A column-vector y was passed when a 1d array was expected. Please change the shape of y to (n_samples, ), for example using ravel().\n",
            "  y = column_or_1d(y, warn=True)\n"
          ],
          "name": "stderr"
        },
        {
          "output_type": "execute_result",
          "data": {
            "text/plain": [
              "MLPRegressor(activation='tanh', alpha=1e-05, batch_size='auto', beta_1=0.9,\n",
              "             beta_2=0.999, early_stopping=False, epsilon=1e-08,\n",
              "             hidden_layer_sizes=(12,), learning_rate='constant',\n",
              "             learning_rate_init=0.001, max_fun=15000, max_iter=200,\n",
              "             momentum=0.9, n_iter_no_change=10, nesterovs_momentum=True,\n",
              "             power_t=0.5, random_state=10, shuffle=True, solver='lbfgs',\n",
              "             tol=0.0001, validation_fraction=0.1, verbose=False,\n",
              "             warm_start=False)"
            ]
          },
          "metadata": {
            "tags": []
          },
          "execution_count": 12
        }
      ]
    },
    {
      "cell_type": "code",
      "metadata": {
        "id": "vLxOjC--yVr1"
      },
      "source": [
        "# usa a rede neural treinada em calculos para treino e teste\n",
        "y_calc_train=model.predict(X_train)\n",
        "y_calc_test=model.predict(X_test)"
      ],
      "execution_count": 13,
      "outputs": []
    },
    {
      "cell_type": "code",
      "metadata": {
        "id": "DUTxgWSMyYtA"
      },
      "source": [
        "# transforma dos dados calculados na forma original (nao normatizado)\n",
        "y_obs_train=scaler_Y.inverse_transform(np.array(y_train).reshape(-1,1))\n",
        "y_obs_test=scaler_Y.inverse_transform(np.array(y_test).reshape(-1,1))\n",
        "y_calc_train=scaler_Y.inverse_transform(y_calc_train.reshape(-1,1))\n",
        "y_calc_test=scaler_Y.inverse_transform(y_calc_test.reshape(-1,1))"
      ],
      "execution_count": 14,
      "outputs": []
    },
    {
      "cell_type": "code",
      "metadata": {
        "colab": {
          "base_uri": "https://localhost:8080/"
        },
        "id": "WQmWVRnMy0nA",
        "outputId": "42facee2-ac30-4b79-f348-9d7482adc847"
      },
      "source": [
        "print(pd.DataFrame({'test calc':y_calc_test.ravel(),'test true':y_obs_test.ravel()}))"
      ],
      "execution_count": 15,
      "outputs": [
        {
          "output_type": "stream",
          "text": [
            "   test calc  test true\n",
            "0   0.702389      0.683\n",
            "1   0.958277      0.972\n",
            "2   0.396010      0.442\n",
            "3   0.871358      0.876\n",
            "4   1.202727      1.219\n"
          ],
          "name": "stdout"
        }
      ]
    },
    {
      "cell_type": "code",
      "metadata": {
        "colab": {
          "base_uri": "https://localhost:8080/",
          "height": 278
        },
        "id": "A7Uc5Fbky3jn",
        "outputId": "02e34a78-acae-4a66-acba-d9375b839dd9"
      },
      "source": [
        "# expressa os dois dados em figura\n",
        "fig = plt.figure()\n",
        "ax1 = fig.add_subplot(111)\n",
        "ax1.scatter(y_obs_test,y_calc_test, s=10, c='b', marker=\"s\", label='Teste')\n",
        "ax1.scatter(y_obs_train,y_calc_train, s=10, c='r', marker=\"o\", label='Treino')\n",
        "plt.legend(loc='upper left')\n",
        "plt.ylabel('Dry Weight (ANN)')\n",
        "plt.xlabel('Dry Weight (Exp)')\n",
        "plt.show()"
      ],
      "execution_count": 16,
      "outputs": [
        {
          "output_type": "display_data",
          "data": {
            "image/png": "[encoded data removed]",
            "text/plain": [
              "<Figure size 432x288 with 1 Axes>"
            ]
          },
          "metadata": {
            "tags": [],
            "needs_background": "light"
          }
        }
      ]
    },
    {
      "cell_type": "code",
      "metadata": {
        "colab": {
          "base_uri": "https://localhost:8080/"
        },
        "id": "A8N1BWcB0MID",
        "outputId": "b50819ab-7156-41f5-a095-c2d47c85493c"
      },
      "source": [
        "print('============= TREINO =============')\n",
        "mse=mean_squared_error(y_obs_train,y_calc_train)\n",
        "print(\"MSE treino=\",mse)\n",
        "R2=r2_score(y_obs_train,y_calc_train)\n",
        "print(\"R^2 treino=\",R2)\n",
        "print('==================================\\n\\n')\n",
        "print('============== TESTE ==============')\n",
        "mse=mean_squared_error(y_obs_test,y_calc_test)\n",
        "print(\"MSE teste=\",mse)\n",
        "R2=r2_score(y_obs_test,y_calc_test)\n",
        "print(\"R^2 teste=\",R2)\n",
        "print('===================================')"
      ],
      "execution_count": 17,
      "outputs": [
        {
          "output_type": "stream",
          "text": [
            "============= TREINO =============\n",
            "MSE treino= 8.85622707735123e-06\n",
            "R^2 treino= 0.999960471252986\n",
            "==================================\n",
            "\n",
            "\n",
            "============== TESTE ==============\n",
            "MSE teste= 0.0005931426669853178\n",
            "R^2 teste= 0.9914137144430112\n",
            "===================================\n"
          ],
          "name": "stdout"
        }
      ]
    }
  ]
}