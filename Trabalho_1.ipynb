{
  "nbformat": 4,
  "nbformat_minor": 0,
  "metadata": {
    "kernelspec": {
      "display_name": "Python 3",
      "language": "python",
      "name": "python3"
    },
    "language_info": {
      "codemirror_mode": {
        "name": "ipython",
        "version": 3
      },
      "file_extension": ".py",
      "mimetype": "text/x-python",
      "name": "python",
      "nbconvert_exporter": "python",
      "pygments_lexer": "ipython3",
      "version": "3.5.4"
    },
    "colab": {
      "name": "ANN_carvao_TempIgn_maio_01_2021.ipynb",
      "provenance": [],
      "include_colab_link": true
    }
  },
  "cells": [
    {
      "cell_type": "markdown",
      "metadata": {
        "id": "view-in-github",
        "colab_type": "text"
      },
      "source": [
        "<a href=\"https://colab.research.google.com/github/nataliapazin/ANN_Trabalho1/blob/main/Trabalho_1.ipynb\" target=\"_parent\"><img src=\"https://colab.research.google.com/assets/colab-badge.svg\" alt=\"Open In Colab\"/></a>"
      ]
    },
    {
      "cell_type": "code",
      "metadata": {
        "id": "cF6kzanWQZgh"
      },
      "source": [
        "# bibliotecas usadas\n",
        "import numpy as np\n",
        "import pandas as pd\n",
        "import matplotlib.pyplot as plt\n",
        "from sklearn.neural_network import MLPRegressor\n",
        "from sklearn.model_selection import train_test_split\n",
        "from sklearn.metrics import mean_squared_error\n",
        "from sklearn import preprocessing\n",
        "from sklearn.metrics import r2_score "
      ],
      "execution_count": 118,
      "outputs": []
    },
    {
      "cell_type": "code",
      "metadata": {
        "id": "UW1APYrFQZgl"
      },
      "source": [
        "# para gerar o grafico no browser\n",
        "%matplotlib inline"
      ],
      "execution_count": 119,
      "outputs": []
    },
    {
      "cell_type": "code",
      "metadata": {
        "id": "zvGLRmbNMLmc"
      },
      "source": [
        "def Normatiza(x):\n",
        "    strings=list(x)\n",
        "    for i in strings:\n",
        "        max_x=x[i].max()\n",
        "        min_x=x[i].min()\n",
        "        a=(max_x+min_x)/2\n",
        "        b=(max_x-min_x)/2\n",
        "        x[i]=(x[i]-a)/b\n",
        "    return x"
      ],
      "execution_count": 120,
      "outputs": []
    },
    {
      "cell_type": "code",
      "metadata": {
        "id": "QVMNOyVJMSi_"
      },
      "source": [
        "def Original(x,x_old):\n",
        "    strings=list(x)\n",
        "    for i in strings:\n",
        "        max_x=x_old[i].max()\n",
        "        min_x=x_old[i].min()\n",
        "        a=(max_x+min_x)/2\n",
        "        b=(max_x-min_x)/2\n",
        "        x[i]=x[i]*b+a\n",
        "    return x"
      ],
      "execution_count": 121,
      "outputs": []
    },
    {
      "cell_type": "code",
      "metadata": {
        "id": "xDrq_-S8QZgn",
        "colab": {
          "base_uri": "https://localhost:8080/"
        },
        "outputId": "efe4be95-b582-4512-9f38-57266e4f9628"
      },
      "source": [
        "!git clone https://github.com/nataliapazin/ANN_Trabalho1\n",
        "%cd ANN_Trabalho1"
      ],
      "execution_count": 122,
      "outputs": [
        {
          "output_type": "stream",
          "text": [
            "Cloning into 'ANN_Trabalho1'...\n",
            "remote: Enumerating objects: 15, done.\u001b[K\n",
            "remote: Counting objects: 100% (15/15), done.\u001b[K\n",
            "remote: Compressing objects: 100% (13/13), done.\u001b[K\n",
            "remote: Total 15 (delta 4), reused 0 (delta 0), pack-reused 0\u001b[K\n",
            "Unpacking objects: 100% (15/15), done.\n",
            "/content/ANN_Trabalho1/ANN_Trabalho1/ANN_Trabalho1/ANN_Trabalho1/ANN_Trabalho1/ANN_Trabalho1/ANN_Trabalho1/ANN_Trabalho1/ANN_Trabalho1/ANN_Trabalho1/ANN_Trabalho1\n"
          ],
          "name": "stdout"
        }
      ]
    },
    {
      "cell_type": "code",
      "metadata": {
        "id": "poo2kvF6QZgo",
        "colab": {
          "base_uri": "https://localhost:8080/"
        },
        "outputId": "c265878d-be4c-4674-cfa3-d352df9b39d9"
      },
      "source": [
        "# leitura dos dados\n",
        "DAT=pd.read_csv(\"Extraction_Data.csv\",delimiter=\";\")\n",
        "print(DAT)"
      ],
      "execution_count": 123,
      "outputs": [
        {
          "output_type": "stream",
          "text": [
            "    S.N  X1   X2   X3  X4  Dry Height\n",
            "0     1  10  3.0  1.5  25     0.50560\n",
            "1     2  20  3.0  1.5  25     0.62205\n",
            "2     3  10  6.0  1.5  25     0.68300\n",
            "3     4  20  6.0  1.5  25     0.35209\n",
            "4     5  15  4.5  1.0  15     0.62450\n",
            "5     6  15  4.5  2.0  15     0.61000\n",
            "6     7  15  4.5  1.0  35     1.65230\n",
            "7     8  15  4.5  2.0  35     0.85650\n",
            "8     9  10  4.5  1.5  15     0.25890\n",
            "9    10  20  4.5  1.5  15     0.18430\n",
            "10   11  10  4.5  1.5  35     0.97200\n",
            "11   12  20  4.5  1.5  35     0.87600\n",
            "12   13  15  3.0  1.0  25     1.01980\n",
            "13   14  15  6.0  1.0  25     1.20910\n",
            "14   15  15  3.0  2.0  25     1.21900\n",
            "15   16  15  4.5  2.0  25     0.48630\n",
            "16   17  10  4.5  1.0  25     1.00700\n",
            "17   18  20  4.5  1.0  25     0.70100\n",
            "18   19  10  4.5  2.0  25     0.32600\n",
            "19   20  20  3.0  2.0  25     0.38870\n",
            "20   21  15  6.0  1.5  15     0.54700\n",
            "21   22  15  3.0  1.5  15     0.44200\n",
            "22   23  15  6.0  1.5  35     1.20430\n",
            "23   24  15  4.5  1.5  35     1.20534\n",
            "24   25  15  4.5  1.5  25     1.63150\n",
            "25   26  15  4.5  1.5  25     1.62190\n",
            "26   27  15  4.5  1.5  25     1.61910\n"
          ],
          "name": "stdout"
        }
      ]
    },
    {
      "cell_type": "code",
      "metadata": {
        "id": "o_DGNriMXA5E",
        "outputId": "7f3e0ede-b2ab-473c-a833-8f1e5eb4cad4",
        "colab": {
          "base_uri": "https://localhost:8080/"
        }
      },
      "source": [
        "# separa os dados em normatizados e originais\n",
        "DAT_OLD=[]\n",
        "# Guarda os dados antes de serem normatizados, para que não sejam perdidos\n",
        "DAT_OLD=DAT.copy()\n",
        "DAT=Normatiza(DAT)\n",
        "print(DAT.head())\n",
        "print('================================================================')\n",
        "print(DAT_OLD.head())"
      ],
      "execution_count": 124,
      "outputs": [
        {
          "output_type": "stream",
          "text": [
            "        S.N   X1   X2   X3   X4  Dry Height\n",
            "0 -1.000000 -1.0 -1.0  0.0  0.0   -0.562262\n",
            "1 -0.923077  1.0 -1.0  0.0  0.0   -0.403610\n",
            "2 -0.846154 -1.0  1.0  0.0  0.0   -0.320572\n",
            "3 -0.769231  1.0  1.0  0.0  0.0   -0.771403\n",
            "4 -0.692308  0.0  0.0 -1.0 -1.0   -0.400272\n",
            "================================================================\n",
            "   S.N  X1   X2   X3  X4  Dry Height\n",
            "0    1  10  3.0  1.5  25     0.50560\n",
            "1    2  20  3.0  1.5  25     0.62205\n",
            "2    3  10  6.0  1.5  25     0.68300\n",
            "3    4  20  6.0  1.5  25     0.35209\n",
            "4    5  15  4.5  1.0  15     0.62450\n"
          ],
          "name": "stdout"
        }
      ]
    },
    {
      "cell_type": "code",
      "metadata": {
        "id": "oPyalqzuMgEZ",
        "outputId": "50f97477-9b4a-4e2d-e548-fd320a269711",
        "colab": {
          "base_uri": "https://localhost:8080/"
        }
      },
      "source": [
        "# separa os dados em treino e teste\n",
        "train=DAT.sample(frac=0.8,random_state=None) # poderia ser frac=0.5? sim ou nao?\n",
        "test=DAT.drop(train.index)\n",
        "#train e test possui tanto x (entrada/independente) quanto y (saida/dependente)\n",
        "print(train.head())\n",
        "print(\"===================================================================\")\n",
        "print(train.shape[0]) #mostrar o numero de linhas\n",
        "print(\"===================================================================\")\n",
        "print(test.head())\n",
        "print(\"===================================================================\")\n",
        "print(test.shape[0])"
      ],
      "execution_count": 125,
      "outputs": [
        {
          "output_type": "stream",
          "text": [
            "         S.N   X1   X2   X3   X4  Dry Height\n",
            "20  0.538462  0.0  1.0  0.0 -1.0   -0.505858\n",
            "19  0.461538  1.0 -1.0  1.0  0.0   -0.721526\n",
            "2  -0.846154 -1.0  1.0  0.0  0.0   -0.320572\n",
            "13  0.000000  0.0  1.0 -1.0  0.0    0.396185\n",
            "7  -0.461538  0.0  0.0  1.0  1.0   -0.084196\n",
            "===================================================================\n",
            "22\n",
            "===================================================================\n",
            "         S.N   X1   X2   X3   X4  Dry Height\n",
            "4  -0.692308  0.0  0.0 -1.0 -1.0   -0.400272\n",
            "15  0.153846  0.0  0.0  1.0  0.0   -0.588556\n",
            "17  0.307692  1.0  0.0 -1.0  0.0   -0.296049\n",
            "21  0.615385  0.0 -1.0  0.0 -1.0   -0.648910\n",
            "26  1.000000  0.0  0.0  0.0  0.0    0.954768\n",
            "===================================================================\n",
            "5\n"
          ],
          "name": "stdout"
        }
      ]
    },
    {
      "cell_type": "code",
      "metadata": {
        "id": "f12GAjTePFpB",
        "outputId": "d4bd4ef1-f3e6-4acd-b0c3-4f60fa36c828",
        "colab": {
          "base_uri": "https://localhost:8080/"
        }
      },
      "source": [
        "# obtem as variaveis independentes (treino e teste)\n",
        "x_train=train.iloc[:,[0,1,2,3]]\n",
        "x_test=test.iloc[:,[0,1,2,3]]\n",
        "X_OLD=DAT_OLD.iloc[:,[0,1,2,3]]\n",
        "print(x_test.head())\n",
        "print('================================================================')\n",
        "print(x_train.head())\n",
        "print('================================================================')\n",
        "print(X_OLD.head())"
      ],
      "execution_count": 126,
      "outputs": [
        {
          "output_type": "stream",
          "text": [
            "         S.N   X1   X2   X3\n",
            "4  -0.692308  0.0  0.0 -1.0\n",
            "15  0.153846  0.0  0.0  1.0\n",
            "17  0.307692  1.0  0.0 -1.0\n",
            "21  0.615385  0.0 -1.0  0.0\n",
            "26  1.000000  0.0  0.0  0.0\n",
            "================================================================\n",
            "         S.N   X1   X2   X3\n",
            "20  0.538462  0.0  1.0  0.0\n",
            "19  0.461538  1.0 -1.0  1.0\n",
            "2  -0.846154 -1.0  1.0  0.0\n",
            "13  0.000000  0.0  1.0 -1.0\n",
            "7  -0.461538  0.0  0.0  1.0\n",
            "================================================================\n",
            "   S.N  X1   X2   X3\n",
            "0    1  10  3.0  1.5\n",
            "1    2  20  3.0  1.5\n",
            "2    3  10  6.0  1.5\n",
            "3    4  20  6.0  1.5\n",
            "4    5  15  4.5  1.0\n"
          ],
          "name": "stdout"
        }
      ]
    },
    {
      "cell_type": "code",
      "metadata": {
        "id": "58gyelkoPl3Q",
        "outputId": "3192d512-e6be-4ad8-b493-acdfd16af434",
        "colab": {
          "base_uri": "https://localhost:8080/"
        }
      },
      "source": [
        "Index=[5]\n",
        "y_train=train.iloc[:,Index]\n",
        "y_test=test.iloc[:,Index]\n",
        "Y_OLD=DAT_OLD.iloc[:,Index]\n",
        "print(y_test.head())\n",
        "print('================================================================')\n",
        "print(y_train.head())\n",
        "print('================================================================')\n",
        "print(Y_OLD.head())"
      ],
      "execution_count": 127,
      "outputs": [
        {
          "output_type": "stream",
          "text": [
            "    Dry Height\n",
            "4    -0.400272\n",
            "15   -0.588556\n",
            "17   -0.296049\n",
            "21   -0.648910\n",
            "26    0.954768\n",
            "================================================================\n",
            "    Dry Height\n",
            "20   -0.505858\n",
            "19   -0.721526\n",
            "2    -0.320572\n",
            "13    0.396185\n",
            "7    -0.084196\n",
            "================================================================\n",
            "   Dry Height\n",
            "0     0.50560\n",
            "1     0.62205\n",
            "2     0.68300\n",
            "3     0.35209\n",
            "4     0.62450\n"
          ],
          "name": "stdout"
        }
      ]
    },
    {
      "cell_type": "code",
      "metadata": {
        "id": "6ndFMz3_PzBS",
        "outputId": "3a8bdcce-0038-4e2a-a4bc-95d94df48be4",
        "colab": {
          "base_uri": "https://localhost:8080/"
        }
      },
      "source": [
        "clf = MLPRegressor(solver='lbfgs',activation='logistic',alpha=1e-5,hidden_layer_sizes=(8), random_state=None)\n",
        "clf.fit(x_train, y_train)\n",
        "y_calc_train=clf.predict(x_train)\n",
        "y_calc_test=clf.predict(x_test)\n",
        "y_calc_train=pd.DataFrame(y_calc_train)\n",
        "y_calc_test=pd.DataFrame(y_calc_test)\n",
        "col_names=list(y_train)\n",
        "y_calc_train.columns = col_names\n",
        "y_calc_test.columns = col_names\n",
        "y_calc_train=Original(y_calc_train,Y_OLD)\n",
        "y_calc_test=Original(y_calc_test,Y_OLD)\n",
        "test=[]\n",
        "train=[]\n",
        "train=Original(y_train,Y_OLD)\n",
        "test=Original(y_test,Y_OLD)\n",
        "resist_obs_train=[]\n",
        "resist_calc_train=[]\n",
        "resist_calc_train=y_calc_train['Dry Height'].copy()\n",
        "resist_obs_train=train['Dry Height'].copy()\n",
        "resist_obs_test=[]\n",
        "resist_calc_test=[]\n",
        "resist_calc_test=y_calc_test['Dry Height'].copy()\n",
        "resist_obs_test=test['Dry Height'].copy()\n",
        "print('===== TREINAMENTO SUPERIOR =====')\n",
        "mse=mean_squared_error(resist_obs_train,resist_calc_train)\n",
        "print(\"MSE treino=\",mse)\n",
        "R2=r2_score(resist_obs_train,resist_calc_train)\n",
        "print(\"R^2 treino=\",R2)\n",
        "print('===== TESTE SUPERIOR =====')\n",
        "mse=mean_squared_error(resist_obs_test,resist_calc_test)\n",
        "print(\"MSE teste=\",mse)\n",
        "R2=r2_score(resist_obs_test,resist_calc_test)\n",
        "print(\"R^2 teste=\",R2)\n",
        "print('==========================')"
      ],
      "execution_count": 130,
      "outputs": [
        {
          "output_type": "stream",
          "text": [
            "===== TREINAMENTO SUPERIOR =====\n",
            "MSE treino= 0.0008144046380728655\n",
            "R^2 treino= 0.9922823084093148\n",
            "===== TESTE SUPERIOR =====\n",
            "MSE teste= 0.2629068251963274\n",
            "R^2 teste= -1.6099367146270538\n",
            "==========================\n"
          ],
          "name": "stdout"
        },
        {
          "output_type": "stream",
          "text": [
            "/usr/local/lib/python3.7/dist-packages/sklearn/neural_network/_multilayer_perceptron.py:1342: DataConversionWarning: A column-vector y was passed when a 1d array was expected. Please change the shape of y to (n_samples, ), for example using ravel().\n",
            "  y = column_or_1d(y, warn=True)\n",
            "/usr/local/lib/python3.7/dist-packages/sklearn/neural_network/_multilayer_perceptron.py:470: ConvergenceWarning: lbfgs failed to converge (status=1):\n",
            "STOP: TOTAL NO. of ITERATIONS REACHED LIMIT.\n",
            "\n",
            "Increase the number of iterations (max_iter) or scale the data as shown in:\n",
            "    https://scikit-learn.org/stable/modules/preprocessing.html\n",
            "  self.n_iter_ = _check_optimize_result(\"lbfgs\", opt_res, self.max_iter)\n"
          ],
          "name": "stderr"
        }
      ]
    },
    {
      "cell_type": "code",
      "metadata": {
        "id": "UnU1SoviTQaJ",
        "outputId": "0711d98e-4f86-44e0-8f5d-5e9b77c02eb8",
        "colab": {
          "base_uri": "https://localhost:8080/",
          "height": 278
        }
      },
      "source": [
        "# expressa os dois dados em figura\n",
        "fig = plt.figure()\n",
        "ax1 = fig.add_subplot(111)#mostra dois graficos sob o mesmo eixo \n",
        "\n",
        "ax1.scatter(resist_obs_test,resist_calc_test, s=10, c='b', marker=\"s\", label='teste')\n",
        "ax1.scatter(resist_obs_train,resist_calc_train, s=10, c='r', marker=\"o\", label='treino')\n",
        "plt.legend(loc='upper left')\n",
        "plt.ylabel('Dry Height Calculado')\n",
        "plt.xlabel('Dry Height Experimental')\n",
        "plt.show()"
      ],
      "execution_count": 131,
      "outputs": [
        {
          "output_type": "display_data",
          "data": {
            "image/png": "[encoded data removed]",
            "text/plain": [
              "<Figure size 432x288 with 1 Axes>"
            ]
          },
          "metadata": {
            "tags": [],
            "needs_background": "light"
          }
        }
      ]
    },
    {
      "cell_type": "code",
      "metadata": {
        "id": "VIPGOBI1WLAH",
        "outputId": "0586f0ce-3671-4db3-e198-1215d0562771",
        "colab": {
          "base_uri": "https://localhost:8080/"
        }
      },
      "source": [
        "y_calc_train=Original(y_calc_train,Y_OLD)\n",
        "y_calc_test=Original(y_calc_test,Y_OLD)\n",
        "print(y_calc_test)\n",
        "print(y_calc_test.shape[0])\n"
      ],
      "execution_count": 134,
      "outputs": [
        {
          "output_type": "stream",
          "text": [
            "   Dry Height\n",
            "0    2.635276\n",
            "1    2.574361\n",
            "2    2.683373\n",
            "3    1.958936\n",
            "4    2.828365\n",
            "5\n"
          ],
          "name": "stdout"
        }
      ]
    }
  ]
}