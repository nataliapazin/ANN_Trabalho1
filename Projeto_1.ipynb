{
  "nbformat": 4,
  "nbformat_minor": 0,
  "metadata": {
    "kernelspec": {
      "display_name": "Python 3",
      "language": "python",
      "name": "python3"
    },
    "language_info": {
      "codemirror_mode": {
        "name": "ipython",
        "version": 3
      },
      "file_extension": ".py",
      "mimetype": "text/x-python",
      "name": "python",
      "nbconvert_exporter": "python",
      "pygments_lexer": "ipython3",
      "version": "3.5.4"
    },
    "colab": {
      "name": "Trabalho_1.ipynb",
      "provenance": [],
      "include_colab_link": true
    }
  },
  "cells": [
    {
      "cell_type": "markdown",
      "metadata": {
        "id": "view-in-github",
        "colab_type": "text"
      },
      "source": [
        "<a href=\"https://colab.research.google.com/github/nataliapazin/ANN_Trabalho1/blob/main/Projeto_1.ipynb\" target=\"_parent\"><img src=\"https://colab.research.google.com/assets/colab-badge.svg\" alt=\"Open In Colab\"/></a>"
      ]
    },
    {
      "cell_type": "markdown",
      "metadata": {
        "id": "-OySG9H9b0_X"
      },
      "source": [
        "**Nome:** Natália Pazin Almeida \n",
        "\n",
        "**Data:** 26/05/2021\n",
        "\n",
        "# **Projeto 1 – Redes Neurais**\n",
        "**Artigo:** Comparison of RSM, ANN and Fuzzy Logic for extraction of Oleonolic Acid from Ocimum sanctum\n",
        "\n",
        "**Ano de publicação:**  2020\n",
        "\n",
        "**Autores:** Aditya Khampariaa, Babita Pandeyb, Devendra Kr. Pandeyc, Deepak Guptad, ,Ashish Khannad, Victor Hugo C de Albuquerque\n",
        "\n",
        "O artigo analisa a influência de **4 variáveis** na extração de ácido oleanólico de Ocimum sanctum, conhecido como manjericão sagrado ou tulsi. As 4 variáveis estudadas são: Tempo de extração (X1), razão solvente/sólido e (X2), tamanho da partícula (X3) e composição do solvente (X4).\n",
        "\n",
        "É utilizada uma rede neural na arquitetura **4-12-1**, ou seja, 4 entradas, **12 neurônios na camada oculta** e 1 resposta. A normatização dos dados foi realizada na faixa **0-1** e a função de ativação utilizada foi a **sigmoide**. \n",
        "\n",
        "O r^2 alcançado no artigo para a rede neural é de **0,994**. \n",
        "Neste projeto, o r^2 para teste foi de **0,999** e para treino de **0,772**. A não discriminação de quais dados foram utilizados na etapa de treino e quais foram utilizados na etapa de teste pode ter relação com a diferença obtida no r^2.\n"
      ]
    },
    {
      "cell_type": "code",
      "metadata": {
        "id": "cF6kzanWQZgh"
      },
      "source": [
        "# bibliotecas usadas\n",
        "import numpy as np\n",
        "import pandas as pd\n",
        "import matplotlib.pyplot as plt\n",
        "from sklearn.neural_network import MLPRegressor\n",
        "from sklearn.model_selection import train_test_split\n",
        "from sklearn.metrics import mean_squared_error\n",
        "from sklearn import preprocessing\n",
        "from sklearn.metrics import r2_score \n",
        "np.random.seed(0)"
      ],
      "execution_count": 39,
      "outputs": []
    },
    {
      "cell_type": "code",
      "metadata": {
        "id": "UW1APYrFQZgl"
      },
      "source": [
        "# para gerar o grafico no browser\n",
        "%matplotlib inline"
      ],
      "execution_count": 40,
      "outputs": []
    },
    {
      "cell_type": "code",
      "metadata": {
        "id": "zvGLRmbNMLmc"
      },
      "source": [
        "#Função para normatizar os dados entre (0,1) como o artigo em estudo faz\n",
        "def Normatiza(x):\n",
        "    strings=list(x)\n",
        "    for i in strings:\n",
        "        max_x=x[i].max()\n",
        "        min_x=x[i].min()\n",
        "        a=min_x\n",
        "        b=max_x\n",
        "        x[i]=(x[i]-a)/(b-a)\n",
        "    return x"
      ],
      "execution_count": 41,
      "outputs": []
    },
    {
      "cell_type": "code",
      "metadata": {
        "id": "QVMNOyVJMSi_"
      },
      "source": [
        "#Função para retornar os dados normamtizados para os valores originais\n",
        "def Original(x,x_old):\n",
        "    strings=list(x)\n",
        "    for i in strings:\n",
        "        max_x=x_old[i].max()\n",
        "        min_x=x_old[i].min()\n",
        "        a=min_x\n",
        "        b=max_x\n",
        "        x[i]=x[i]*(b-a)+a\n",
        "    return x"
      ],
      "execution_count": 42,
      "outputs": []
    },
    {
      "cell_type": "code",
      "metadata": {
        "id": "xDrq_-S8QZgn",
        "colab": {
          "base_uri": "https://localhost:8080/"
        },
        "outputId": "137adc1d-75f4-4782-d785-ebd8c1a15d42"
      },
      "source": [
        "!git clone https://github.com/nataliapazin/ANN_Trabalho1\n",
        "%cd ANN_Trabalho1"
      ],
      "execution_count": 43,
      "outputs": [
        {
          "output_type": "stream",
          "text": [
            "Cloning into 'ANN_Trabalho1'...\n",
            "remote: Enumerating objects: 58, done.\u001b[K\n",
            "remote: Counting objects: 100% (58/58), done.\u001b[K\n",
            "remote: Compressing objects: 100% (56/56), done.\u001b[K\n",
            "remote: Total 58 (delta 25), reused 0 (delta 0), pack-reused 0\u001b[K\n",
            "Unpacking objects: 100% (58/58), done.\n",
            "/content/ANN_Trabalho1/ANN_Trabalho1/ANN_Trabalho1/ANN_Trabalho1/ANN_Trabalho1\n"
          ],
          "name": "stdout"
        }
      ]
    },
    {
      "cell_type": "code",
      "metadata": {
        "id": "poo2kvF6QZgo",
        "colab": {
          "base_uri": "https://localhost:8080/"
        },
        "outputId": "fdf79eff-c31e-452b-fded-6e875f5b0c9b"
      },
      "source": [
        "# leitura dos dados\n",
        "DAT=pd.read_csv(\"Extraction_Data.csv\",delimiter=\";\")\n",
        "print(DAT)"
      ],
      "execution_count": 44,
      "outputs": [
        {
          "output_type": "stream",
          "text": [
            "    S.N  X1   X2   X3  X4  Dry Weight\n",
            "0     1  10  3.0  1.5  25     0.50560\n",
            "1     2  20  3.0  1.5  25     0.62205\n",
            "2     3  10  6.0  1.5  25     0.68300\n",
            "3     4  20  6.0  1.5  25     0.35209\n",
            "4     5  15  4.5  1.0  15     0.62450\n",
            "5     6  15  4.5  2.0  15     0.61000\n",
            "6     7  15  4.5  1.0  35     1.65230\n",
            "7     8  15  4.5  2.0  35     0.85650\n",
            "8     9  10  4.5  1.5  15     0.25890\n",
            "9    10  20  4.5  1.5  15     0.18430\n",
            "10   11  10  4.5  1.5  35     0.97200\n",
            "11   12  20  4.5  1.5  35     0.87600\n",
            "12   13  15  3.0  1.0  25     1.01980\n",
            "13   14  15  6.0  1.0  25     1.20910\n",
            "14   15  15  3.0  2.0  25     1.21900\n",
            "15   16  15  4.5  2.0  25     0.48630\n",
            "16   17  10  4.5  1.0  25     1.00700\n",
            "17   18  20  4.5  1.0  25     0.70100\n",
            "18   19  10  4.5  2.0  25     0.32600\n",
            "19   20  20  3.0  2.0  25     0.38870\n",
            "20   21  15  6.0  1.5  15     0.54700\n",
            "21   22  15  3.0  1.5  15     0.44200\n",
            "22   23  15  6.0  1.5  35     1.20430\n",
            "23   24  15  4.5  1.5  35     1.20534\n",
            "24   25  15  4.5  1.5  25     1.63150\n",
            "25   26  15  4.5  1.5  25     1.62190\n",
            "26   27  15  4.5  1.5  25     1.61910\n"
          ],
          "name": "stdout"
        }
      ]
    },
    {
      "cell_type": "code",
      "metadata": {
        "id": "o_DGNriMXA5E",
        "colab": {
          "base_uri": "https://localhost:8080/"
        },
        "outputId": "1a2feb8d-068b-4c4b-ae66-e291b4711b3d"
      },
      "source": [
        "# Separa as colunas de interesse\n",
        "Index=[1,2,3,4,5]\n",
        "Dat_Select=[]\n",
        "Dat_Select=DAT.iloc[:,Index].copy()\n",
        "print(Dat_Select)"
      ],
      "execution_count": 45,
      "outputs": [
        {
          "output_type": "stream",
          "text": [
            "    X1   X2   X3  X4  Dry Weight\n",
            "0   10  3.0  1.5  25     0.50560\n",
            "1   20  3.0  1.5  25     0.62205\n",
            "2   10  6.0  1.5  25     0.68300\n",
            "3   20  6.0  1.5  25     0.35209\n",
            "4   15  4.5  1.0  15     0.62450\n",
            "5   15  4.5  2.0  15     0.61000\n",
            "6   15  4.5  1.0  35     1.65230\n",
            "7   15  4.5  2.0  35     0.85650\n",
            "8   10  4.5  1.5  15     0.25890\n",
            "9   20  4.5  1.5  15     0.18430\n",
            "10  10  4.5  1.5  35     0.97200\n",
            "11  20  4.5  1.5  35     0.87600\n",
            "12  15  3.0  1.0  25     1.01980\n",
            "13  15  6.0  1.0  25     1.20910\n",
            "14  15  3.0  2.0  25     1.21900\n",
            "15  15  4.5  2.0  25     0.48630\n",
            "16  10  4.5  1.0  25     1.00700\n",
            "17  20  4.5  1.0  25     0.70100\n",
            "18  10  4.5  2.0  25     0.32600\n",
            "19  20  3.0  2.0  25     0.38870\n",
            "20  15  6.0  1.5  15     0.54700\n",
            "21  15  3.0  1.5  15     0.44200\n",
            "22  15  6.0  1.5  35     1.20430\n",
            "23  15  4.5  1.5  35     1.20534\n",
            "24  15  4.5  1.5  25     1.63150\n",
            "25  15  4.5  1.5  25     1.62190\n",
            "26  15  4.5  1.5  25     1.61910\n"
          ],
          "name": "stdout"
        }
      ]
    },
    {
      "cell_type": "code",
      "metadata": {
        "colab": {
          "base_uri": "https://localhost:8080/"
        },
        "id": "_e_7NELSIk8Q",
        "outputId": "e4a04115-c6d1-4855-ecad-7e179c719603"
      },
      "source": [
        "# Separa os dados em normatizados e originais\n",
        "DAT_OLD=[]\n",
        "# Guarda os dados antes de serem normatizados, para que não sejam perdidos\n",
        "DAT_OLD=Dat_Select.copy()\n",
        "DAT=Normatiza(Dat_Select)\n",
        "print('================================================================')\n",
        "print(DAT.head())\n",
        "print('================================================================')\n"
      ],
      "execution_count": 46,
      "outputs": [
        {
          "output_type": "stream",
          "text": [
            "================================================================\n",
            "    X1   X2   X3   X4  Dry Weight\n",
            "0  0.0  0.0  0.5  0.5    0.218869\n",
            "1  1.0  0.0  0.5  0.5    0.298195\n",
            "2  0.0  1.0  0.5  0.5    0.339714\n",
            "3  1.0  1.0  0.5  0.5    0.114298\n",
            "4  0.5  0.5  0.0  0.0    0.299864\n",
            "================================================================\n"
          ],
          "name": "stdout"
        }
      ]
    },
    {
      "cell_type": "code",
      "metadata": {
        "id": "oPyalqzuMgEZ",
        "colab": {
          "base_uri": "https://localhost:8080/"
        },
        "outputId": "1b0fca77-de7a-4eeb-80a4-f5e9a3461d5d"
      },
      "source": [
        "# separa os dados em treino e teste\n",
        "train=DAT.sample(frac=0.8, random_state=13) # a fração em 0,8 diz que 80% dos dados serão usados em treino \n",
        "test=DAT.drop(train.index) # função drop garante que os dados usados no treino não serão usados em teste\n",
        "#treino e teste possuem tanto x (variáveis independentes) quanto y (variáveis dependentes)\n",
        "print(\"===================================================================\")\n",
        "print(train.head())\n",
        "print(\"===================================================================\")\n",
        "print(train.shape[0],'= Número de dados de treino') # mostra o numero de dados utilizados para treino\n",
        "print(\"===================================================================\")\n",
        "print(test.head())\n",
        "print(\"===================================================================\")\n",
        "print(test.shape[0],'= Número de dados de teste') # mostra o numero de dados utilizados para teste\n",
        "print(\"===================================================================\")"
      ],
      "execution_count": 47,
      "outputs": [
        {
          "output_type": "stream",
          "text": [
            "===================================================================\n",
            "     X1   X2   X3   X4  Dry Weight\n",
            "8   0.0  0.5  0.5  0.0    0.050817\n",
            "19  1.0  0.0  1.0  0.5    0.139237\n",
            "1   1.0  0.0  0.5  0.5    0.298195\n",
            "11  1.0  0.5  0.5  1.0    0.471185\n",
            "15  0.5  0.5  1.0  0.5    0.205722\n",
            "===================================================================\n",
            "22 = Número de dados de treino\n",
            "===================================================================\n",
            "     X1   X2   X3   X4  Dry Weight\n",
            "6   0.5  0.5  0.0  1.0    1.000000\n",
            "10  0.0  0.5  0.5  1.0    0.536580\n",
            "16  0.0  0.5  0.0  0.5    0.560422\n",
            "18  0.0  0.5  1.0  0.5    0.096526\n",
            "25  0.5  0.5  0.5  0.5    0.979292\n",
            "===================================================================\n",
            "5 = Número de dados de teste\n",
            "===================================================================\n"
          ],
          "name": "stdout"
        }
      ]
    },
    {
      "cell_type": "code",
      "metadata": {
        "id": "f12GAjTePFpB",
        "colab": {
          "base_uri": "https://localhost:8080/"
        },
        "outputId": "712e6634-ef51-4a86-e6de-15b684a97b98"
      },
      "source": [
        "# Obtém as variáveis independentes (treino e teste)\n",
        "x_train=train.iloc[:,[0,1,2,3]] # a coluna 4 não entra nessa parte, porque ela é uma coluna de resposta (variável dependente)\n",
        "x_test=test.iloc[:,[0,1,2,3]]\n",
        "X_OLD=DAT_OLD.iloc[:,[0,1,2,3]]\n",
        "print('================================================================')\n",
        "print(x_test.head())\n",
        "print('================================================================')\n",
        "print(x_train.head())\n",
        "print('================================================================')\n",
        "print(X_OLD.head())\n",
        "print('================================================================')"
      ],
      "execution_count": 48,
      "outputs": [
        {
          "output_type": "stream",
          "text": [
            "================================================================\n",
            "     X1   X2   X3   X4\n",
            "6   0.5  0.5  0.0  1.0\n",
            "10  0.0  0.5  0.5  1.0\n",
            "16  0.0  0.5  0.0  0.5\n",
            "18  0.0  0.5  1.0  0.5\n",
            "25  0.5  0.5  0.5  0.5\n",
            "================================================================\n",
            "     X1   X2   X3   X4\n",
            "8   0.0  0.5  0.5  0.0\n",
            "19  1.0  0.0  1.0  0.5\n",
            "1   1.0  0.0  0.5  0.5\n",
            "11  1.0  0.5  0.5  1.0\n",
            "15  0.5  0.5  1.0  0.5\n",
            "================================================================\n",
            "   X1   X2   X3  X4\n",
            "0  10  3.0  1.5  25\n",
            "1  20  3.0  1.5  25\n",
            "2  10  6.0  1.5  25\n",
            "3  20  6.0  1.5  25\n",
            "4  15  4.5  1.0  15\n",
            "================================================================\n"
          ],
          "name": "stdout"
        }
      ]
    },
    {
      "cell_type": "code",
      "metadata": {
        "id": "58gyelkoPl3Q",
        "colab": {
          "base_uri": "https://localhost:8080/"
        },
        "outputId": "379d167b-d52b-48f1-c7b1-6666ed2fba0c"
      },
      "source": [
        "# Obtem a variável dependente (treino e teste)\n",
        "Index=[4]\n",
        "y_train=train.iloc[:,Index] # entra apenas a coluna 4 pois há apenas uma resposta no artigo\n",
        "y_test=test.iloc[:,Index]\n",
        "Y_OLD=DAT_OLD.iloc[:,Index]\n",
        "print('================================================================')\n",
        "print(y_test.head())\n",
        "print('================================================================')\n",
        "print(y_train.head())\n",
        "print('================================================================')\n",
        "print(Y_OLD.head())\n",
        "print('================================================================')"
      ],
      "execution_count": 49,
      "outputs": [
        {
          "output_type": "stream",
          "text": [
            "================================================================\n",
            "    Dry Weight\n",
            "6     1.000000\n",
            "10    0.536580\n",
            "16    0.560422\n",
            "18    0.096526\n",
            "25    0.979292\n",
            "================================================================\n",
            "    Dry Weight\n",
            "8     0.050817\n",
            "19    0.139237\n",
            "1     0.298195\n",
            "11    0.471185\n",
            "15    0.205722\n",
            "================================================================\n",
            "   Dry Weight\n",
            "0     0.50560\n",
            "1     0.62205\n",
            "2     0.68300\n",
            "3     0.35209\n",
            "4     0.62450\n",
            "================================================================\n"
          ],
          "name": "stdout"
        }
      ]
    },
    {
      "cell_type": "code",
      "metadata": {
        "id": "6ndFMz3_PzBS"
      },
      "source": [
        "# Define a Rede Neural \n",
        "# Função ativação Sigmoide utilizada, pois é mais apropriada para casos de normatização entre 0 e 1\n",
        "# Número de neurônios = 12, como escolhido pelo autor do artigo\n",
        "ANN = MLPRegressor(solver='lbfgs',activation='logistic',alpha=0.0001,max_iter=15000,hidden_layer_sizes=(12,),random_state=15)\n",
        "\n",
        "ANN.fit(x_train, y_train.values.ravel()) #Treina a Rede Neural. Aqui a função ravel transforma a matriz em um vetor linha\n",
        "\n",
        "y_calc_train=ANN.predict(x_train) # Utiliza a Rede para treino\n",
        "\n",
        "y_calc_test=ANN.predict(x_test) # Utiliza a Rede para teste\n",
        "\n",
        "# Transforma a resposta em Data Frame\n",
        "y_calc_train=pd.DataFrame(y_calc_train)\n",
        "y_calc_test=pd.DataFrame(y_calc_test)\n",
        "col_names=list(y_train)\n",
        "y_calc_train.columns = col_names\n",
        "y_calc_test.columns = col_names\n",
        "\n",
        "# Transforma os dados normatizados em dados originais\n",
        "y_calc_train=Original(y_calc_train,Y_OLD)\n",
        "y_calc_test=Original(y_calc_test,Y_OLD)\n",
        "test=[]\n",
        "train=[]\n",
        "train=Original(y_train,Y_OLD)\n",
        "test=Original(y_test,Y_OLD)\n",
        "\n",
        "# Definindo a variável que vai compor o gráfico\n",
        "result_obs_train=[]\n",
        "result_calc_train=[]\n",
        "result_calc_train=y_calc_train['Dry Weight'].copy()\n",
        "result_obs_train=train['Dry Weight'].copy()\n",
        "result_obs_test=[]\n",
        "result_calc_test=[]\n",
        "result_calc_test=y_calc_test['Dry Weight'].copy()\n",
        "result_obs_test=test['Dry Weight'].copy()"
      ],
      "execution_count": 50,
      "outputs": []
    },
    {
      "cell_type": "code",
      "metadata": {
        "id": "UnU1SoviTQaJ",
        "colab": {
          "base_uri": "https://localhost:8080/",
          "height": 456
        },
        "outputId": "a62b01ef-0510-4c02-ff43-3b7df13a748b"
      },
      "source": [
        "# Expressa as respostas em gráfico\n",
        "fig = plt.figure()\n",
        "ax1 = fig.add_subplot(111) # Mostra dois graficos sob o mesmo eixo \n",
        "ax1.scatter(result_obs_test,result_calc_test, s=10, c='b', marker=\"s\", label='Teste')\n",
        "ax1.scatter(result_obs_train,result_calc_train, s=10, c='r', marker=\"o\", label='Treino')\n",
        "plt.legend(loc='upper left')\n",
        "plt.ylabel('Dry Weight (ANN)')\n",
        "plt.xlabel('Dry Weight (Exp)')\n",
        "plt.show()\n",
        "\n",
        "print('============= TREINO =============')\n",
        "mse=mean_squared_error(result_obs_train,result_calc_train)\n",
        "print(\"MSE treino=\",mse)\n",
        "R2=r2_score(result_obs_train,result_calc_train)\n",
        "print(\"R^2 treino=\",R2)\n",
        "print('==================================\\n\\n')\n",
        "print('============== TESTE ==============')\n",
        "mse=mean_squared_error(result_obs_test,result_calc_test)\n",
        "print(\"MSE teste=\",mse)\n",
        "R2=r2_score(result_obs_test,result_calc_test)\n",
        "print(\"R^2 teste=\",R2)\n",
        "print('===================================')"
      ],
      "execution_count": 51,
      "outputs": [
        {
          "output_type": "display_data",
          "data": {
            "image/png": "[encoded data removed]",
            "text/plain": [
              "<Figure size 432x288 with 1 Axes>"
            ]
          },
          "metadata": {
            "tags": [],
            "needs_background": "light"
          }
        },
        {
          "output_type": "stream",
          "text": [
            "============= TREINO =============\n",
            "MSE treino= 0.00010807698174304686\n",
            "R^2 treino= 0.9993441861655413\n",
            "==================================\n",
            "\n",
            "\n",
            "============== TESTE ==============\n",
            "MSE teste= 0.054550604958589544\n",
            "R^2 teste= 0.7727568234633353\n",
            "===================================\n"
          ],
          "name": "stdout"
        }
      ]
    }
  ]
}